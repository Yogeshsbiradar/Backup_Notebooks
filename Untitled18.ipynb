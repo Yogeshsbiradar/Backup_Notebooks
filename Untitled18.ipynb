{
 "cells": [
  {
   "cell_type": "code",
   "execution_count": 2,
   "metadata": {},
   "outputs": [],
   "source": [
    "#1\n",
    "def sum_of_(n):\n",
    "    return ((n*(n+1))/2)"
   ]
  },
  {
   "cell_type": "code",
   "execution_count": 3,
   "metadata": {},
   "outputs": [],
   "source": [
    "#2\n",
    "\n",
    "def mul(l):\n",
    "    n = int(input(\"Enter an odd number\"))\n",
    "    if(n%2!=0):\n",
    "        print(\"Even numbers are\")\n",
    "        l = [i*n for i in l]\n",
    "        for j in l:\n",
    "            if(j%2==0):\n",
    "                print(j);"
   ]
  },
  {
   "cell_type": "code",
   "execution_count": 9,
   "metadata": {},
   "outputs": [
    {
     "name": "stdout",
     "output_type": "stream",
     "text": [
      "[5, 5, 5]\n"
     ]
    }
   ],
   "source": [
    "#3\n",
    "\n",
    "from operator import add\n",
    "a=[2,2,2]\n",
    "b=[3,3,3]\n",
    "\n",
    "c=list(map(add,a,b))\n",
    "print(c)"
   ]
  },
  {
   "cell_type": "code",
   "execution_count": 37,
   "metadata": {},
   "outputs": [
    {
     "name": "stdout",
     "output_type": "stream",
     "text": [
      "2\n"
     ]
    }
   ],
   "source": [
    "#4\n",
    "\n",
    "import re\n",
    "txt = \"Last year we were hit by a global slow down, but things were looking slowly up from November onwards. Then Coronavirus pandemic hit us in February. The apparel industry has slowed not only in India, but also the world over. We exported in December and January, but the buyers didn’t pay us. Also, there were a lot of cancellations, which didn’t help matters. The apparel sector has a slow turnaround rate and it takes around 90 days to produce garments. So we had a huge stock piling up and compared to other industries we have been hit most severely.\"\n",
    "count = re.findall(r'slow\\s',txt)\n",
    "print(len(count))"
   ]
  },
  {
   "cell_type": "code",
   "execution_count": null,
   "metadata": {},
   "outputs": [],
   "source": [
    "#5\n",
    "!pip install numpy\n",
    "import numpy as np\n",
    "s = np.random.randint(0,4,(5,5))"
   ]
  },
  {
   "cell_type": "code",
   "execution_count": null,
   "metadata": {},
   "outputs": [],
   "source": []
  },
  {
   "cell_type": "code",
   "execution_count": null,
   "metadata": {},
   "outputs": [],
   "source": []
  }
 ],
 "metadata": {
  "kernelspec": {
   "display_name": "gputest",
   "language": "python",
   "name": "gputest"
  },
  "language_info": {
   "codemirror_mode": {
    "name": "ipython",
    "version": 3
   },
   "file_extension": ".py",
   "mimetype": "text/x-python",
   "name": "python",
   "nbconvert_exporter": "python",
   "pygments_lexer": "ipython3",
   "version": "3.5.6"
  }
 },
 "nbformat": 4,
 "nbformat_minor": 4
}
